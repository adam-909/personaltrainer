{
  "nbformat": 4,
  "nbformat_minor": 0,
  "metadata": {
    "colab": {
      "provenance": []
    },
    "kernelspec": {
      "name": "python3",
      "display_name": "Python 3"
    },
    "language_info": {
      "name": "python"
    }
  },
  "cells": [
    {
      "cell_type": "markdown",
      "source": [
        "**Initial Downloads**"
      ],
      "metadata": {
        "id": "3BnxG65T-Gix"
      }
    },
    {
      "cell_type": "code",
      "source": [
        "!pip install openai\n",
        "!pip install requests\n",
        "#!pip install google-api-python-client"
      ],
      "metadata": {
        "collapsed": true,
        "id": "0XwqZgT_kXOy"
      },
      "execution_count": null,
      "outputs": []
    },
    {
      "cell_type": "code",
      "source": [
        "import openai\n",
        "import requests\n",
        "#from googleapiclient.discovery import build"
      ],
      "metadata": {
        "id": "1Nruc15i4UbA"
      },
      "execution_count": null,
      "outputs": []
    },
    {
      "cell_type": "code",
      "source": [
        "openai_api_key = ''\n",
        "#client = OpenAI(api_key = '')\n",
        "\n",
        "youtube_api_key = ''"
      ],
      "metadata": {
        "id": "XRJHVpXUitdt"
      },
      "execution_count": null,
      "outputs": []
    },
    {
      "cell_type": "markdown",
      "source": [
        "**Youtube Integration /////// NOT NEEDED**"
      ],
      "metadata": {
        "id": "o9jQYofv98c_"
      }
    },
    {
      "cell_type": "code",
      "source": [
        "#def search_youtube(query):\n",
        "    #youtube = build('youtube', 'v3', developerKey=youtube_api_key)\n",
        "    #request = youtube.search().list(\n",
        "        #part=\"snippet\",\n",
        "        #q=query,\n",
        "        #maxResults=1,\n",
        "        #type=\"video\"\n",
        "    #)\n",
        "    #response = request.execute()\n",
        "    #video_id = response['items'][0]['id']['videoId']\n",
        "    #video_url = f\"https://www.youtube.com/watch?v={video_id}\"\n",
        "    #return video_url"
      ],
      "metadata": {
        "id": "rQ9pQOGq-B1O"
      },
      "execution_count": null,
      "outputs": []
    },
    {
      "cell_type": "markdown",
      "source": [
        "**Bot Response**"
      ],
      "metadata": {
        "id": "-grRHuic-DJW"
      }
    },
    {
      "cell_type": "code",
      "execution_count": null,
      "metadata": {
        "id": "MKjQ2DjkhP5B"
      },
      "outputs": [],
      "source": [
        "# Define the context\n",
        "context = \"\"\"\n",
        "You are RonnAIColeman, a personal trainer with the personality and motivational style of the famous bodybuilder Ronnie Coleman. Your primary goal is to push your clients to achieve their best. You begin each session by greeting your client by name with a spirited 'Yeah buddy!' followed by a motivational phrase such as 'Let's pump this iron!' or 'What would you like to train today?' in true Ronnie Coleman style.\n",
        "\n",
        "In each interaction, ask if the user is a beginner and if they would like more detailed explanations. Always respond with Ronnie Coleman's unique flair.\n",
        "\n",
        "tell the user that you can help with the following topics:\n",
        "1) Training Plan TOPIC\n",
        "2) Nutrition TOPIC\n",
        "3) Muscle Exercises TOPIC\n",
        "\n",
        "When the user selects a topic, follow these guidelines:\n",
        "\n",
        "1. **Training Plan:**\n",
        "   - Ask what specifically they need help with, such as deciding a workout split or choosing exercises.\n",
        "   - Inquire about their training frequency and preferences to tailor a solution for them.\n",
        "\n",
        "2. **Nutrition:**\n",
        "   - Determine if they are bulking or cutting, and ask for details like body weight, height, and goals.\n",
        "   - Provide calorie targets and meal planning advice based on their responses.\n",
        "\n",
        "3. **Muscle Exercises:**\n",
        "   - Offer specific exercises for the mentioned muscle group.\n",
        "   - Provide links to YouTube videos demonstrating each exercise.\n",
        "\n",
        "When the user requests a demonstration of any kind, always link a youtube video! provide a concise explanation of the exercise as well.\n",
        "\n",
        "If and only if user asks questions non exercise related AND not personal questions, say you wish you could help them with that, but my developer Adam has only given me knowledge exclusive to the gym!\n",
        "Since you are roleplaying Ronnie Coleman, if the user asks you a PERSONAL QUESTION, such as 'how old are you', 'where you from', 'how much can you lift' etc., use facts about Ronnie Coleman to respond. E.g. 'I am [insert ronnie's current age here] years old!' as an example.\n",
        "\n",
        "Remember to  maintain Ronnie Coleman's enthusiastic and encouraging tone throughout the conversation, but do not over do it. Do not repeat phrases too frequently.\n",
        "A few phrases that Ronnie Coleman often uses is 'Light weight!', 'Light weight baby!', 'Yeah buddy'\n",
        "\"\"\"\n",
        "# Initialize conversation history\n",
        "conversation_history = [{\"role\": \"system\", \"content\": context}]\n",
        "\n",
        "# Define a function to interact with the OpenAI API\n",
        "def get_bot_response(user_input):\n",
        "    conversation_history.append({\"role\": \"user\", \"content\": user_input})\n",
        "    headers = {\n",
        "        \"Content-Type\": \"application/json\",\n",
        "        \"Authorization\": f\"Bearer {openai_api_key}\"\n",
        "    }\n",
        "    payload = {\n",
        "        \"model\": \"gpt-3.5-turbo\",\n",
        "        \"messages\": conversation_history,\n",
        "        \"temperature\": 0.7\n",
        "    }\n",
        "    response = requests.post(\"https://api.openai.com/v1/chat/completions\", headers=headers, json=payload)\n",
        "    response_data = response.json()\n",
        "    bot_response = response_data['choices'][0]['message']['content']\n",
        "\n",
        "    # Check if the bot response indicates a need for a YouTube video link\n",
        "    #if \"exercise\" in user_input.lower() or \"workout\" in user_input.lower():\n",
        "        #exercise_query = user_input.split(\"exercise for\")[-1].strip()  # Extract the exercise type from the user input\n",
        "        #video_url = search_youtube(exercise_query)\n",
        "        #bot_response += f\"\\nHere's a YouTube video demonstrating the exercise: {video_url}\"\n",
        "\n",
        "    conversation_history.append({\"role\": \"assistant\", \"content\": bot_response})\n",
        "    return bot_response\n"
      ]
    },
    {
      "cell_type": "markdown",
      "source": [
        "**Chat Function**"
      ],
      "metadata": {
        "id": "Cxikfvnj8gDb"
      }
    },
    {
      "cell_type": "code",
      "source": [
        "initial_message = \"Yeah buddy! Let's pump this iron! How can ol' Coleman help you?\"\n",
        "print(f\"RonnAIColeman: {initial_message}\")\n",
        "conversation_history.append({\"role\": \"assistant\", \"content\": initial_message})\n",
        "\n",
        "while True:\n",
        "    # Get user input\n",
        "    user_input = input(\"You: \")\n",
        "\n",
        "    # Break the loop if the user types 'exit'\n",
        "    if user_input.lower() == 'exit':\n",
        "        print(\"Exiting the chat.\")\n",
        "        break\n",
        "\n",
        "    # Get the bot's response\n",
        "    response = get_bot_response(user_input)\n",
        "\n",
        "    # Print the bot's response\n",
        "    print(f\"RonnAIColeman: {response}\")\n"
      ],
      "metadata": {
        "colab": {
          "base_uri": "https://localhost:8080/"
        },
        "id": "a7I_UhkDuoik",
        "outputId": "8066a0b7-22c6-4092-b518-e2fb381f42c8"
      },
      "execution_count": null,
      "outputs": [
        {
          "output_type": "stream",
          "name": "stdout",
          "text": [
            "RonnAIColeman: Yeah buddy! Let's pump this iron! How can ol' Coleman help you?\n",
            "You: exit\n",
            "Exiting the chat.\n"
          ]
        }
      ]
    }
  ]
}